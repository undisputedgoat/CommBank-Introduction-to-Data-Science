{
 "cells": [
  {
   "cell_type": "markdown",
   "id": "ecebdd6f",
   "metadata": {},
   "source": [
    "<h1> Task 2: Data Anonymisation"
   ]
  },
  {
   "cell_type": "code",
   "execution_count": 21,
   "id": "024556a1",
   "metadata": {},
   "outputs": [],
   "source": [
    "import pandas as pd\n",
    "import hashlib\n",
    "from pathlib import Path"
   ]
  },
  {
   "cell_type": "code",
   "execution_count": 22,
   "id": "699d633a",
   "metadata": {},
   "outputs": [],
   "source": [
    "data_dir = Path(\"data\")\n",
    "csv_path = data_dir / \"mobile_customers.xlsx\"\n",
    "df = pd.read_excel(csv_path)"
   ]
  },
  {
   "cell_type": "code",
   "execution_count": 23,
   "id": "e9adacf4",
   "metadata": {},
   "outputs": [
    {
     "data": {
      "text/plain": [
       "Index(['Unnamed: 0', 'customer_id', 'date_registered', 'username', 'name',\n",
       "       'gender', 'address', 'email', 'birthdate', 'current_location',\n",
       "       'residence', 'employer', 'job', 'age', 'salary', 'credit_card_provider',\n",
       "       'credit_card_number', 'credit_card_security_code',\n",
       "       'credit_card_expire'],\n",
       "      dtype='object')"
      ]
     },
     "execution_count": 23,
     "metadata": {},
     "output_type": "execute_result"
    }
   ],
   "source": [
    "df.columns"
   ]
  },
  {
   "cell_type": "code",
   "execution_count": 24,
   "id": "cc7a503f",
   "metadata": {},
   "outputs": [
    {
     "data": {
      "application/vnd.microsoft.datawrangler.viewer.v0+json": {
       "columns": [
        {
         "name": "index",
         "rawType": "object",
         "type": "string"
        },
        {
         "name": "0",
         "rawType": "object",
         "type": "unknown"
        }
       ],
       "ref": "aea01b31-2976-453a-8b01-3084908ff7b6",
       "rows": [
        [
         "Unnamed: 0",
         "int64"
        ],
        [
         "customer_id",
         "object"
        ],
        [
         "date_registered",
         "datetime64[ns]"
        ],
        [
         "username",
         "object"
        ],
        [
         "name",
         "object"
        ],
        [
         "gender",
         "object"
        ],
        [
         "address",
         "object"
        ],
        [
         "email",
         "object"
        ],
        [
         "birthdate",
         "datetime64[ns]"
        ],
        [
         "current_location",
         "object"
        ],
        [
         "residence",
         "object"
        ],
        [
         "employer",
         "object"
        ],
        [
         "job",
         "object"
        ],
        [
         "age",
         "int64"
        ],
        [
         "salary",
         "int64"
        ],
        [
         "credit_card_provider",
         "object"
        ],
        [
         "credit_card_number",
         "int64"
        ],
        [
         "credit_card_security_code",
         "int64"
        ],
        [
         "credit_card_expire",
         "object"
        ]
       ],
       "shape": {
        "columns": 1,
        "rows": 19
       }
      },
      "text/plain": [
       "Unnamed: 0                            int64\n",
       "customer_id                          object\n",
       "date_registered              datetime64[ns]\n",
       "username                             object\n",
       "name                                 object\n",
       "gender                               object\n",
       "address                              object\n",
       "email                                object\n",
       "birthdate                    datetime64[ns]\n",
       "current_location                     object\n",
       "residence                            object\n",
       "employer                             object\n",
       "job                                  object\n",
       "age                                   int64\n",
       "salary                                int64\n",
       "credit_card_provider                 object\n",
       "credit_card_number                    int64\n",
       "credit_card_security_code             int64\n",
       "credit_card_expire                   object\n",
       "dtype: object"
      ]
     },
     "execution_count": 24,
     "metadata": {},
     "output_type": "execute_result"
    }
   ],
   "source": [
    "df.dtypes"
   ]
  },
  {
   "cell_type": "code",
   "execution_count": 25,
   "id": "c308fbac",
   "metadata": {},
   "outputs": [
    {
     "data": {
      "application/vnd.microsoft.datawrangler.viewer.v0+json": {
       "columns": [
        {
         "name": "index",
         "rawType": "int64",
         "type": "integer"
        },
        {
         "name": "customer_id",
         "rawType": "object",
         "type": "string"
        },
        {
         "name": "date_registered",
         "rawType": "datetime64[ns]",
         "type": "datetime"
        },
        {
         "name": "gender",
         "rawType": "object",
         "type": "string"
        },
        {
         "name": "employer",
         "rawType": "object",
         "type": "string"
        },
        {
         "name": "job",
         "rawType": "object",
         "type": "string"
        },
        {
         "name": "age",
         "rawType": "object",
         "type": "string"
        },
        {
         "name": "salary",
         "rawType": "int64",
         "type": "integer"
        }
       ],
       "ref": "a0ed5b6e-67d5-4560-9891-f335ac5be425",
       "rows": [
        [
         "0",
         "24c9d2d0-d0d3-4a90-9a3a-e00e4aac99bd",
         "2021-09-29 00:00:00",
         "M",
         "a2e5631b9eb4ab110d98fff28178c4bd20e9c2dea0d822b8e4de47fd717fde25",
         "847953c7c1bef61e2ea6d7cb7d8061e3cfc7890239d2aa083be344cf1304b1c2",
         "40 - 49",
         "54000"
        ],
        [
         "1",
         "7b2bc220-0296-4914-ba46-d6cc6a55a62a",
         "2019-08-17 00:00:00",
         "F",
         "a8a4a9f4669c14da68479a0cb5505d4115c9d6cee096ef6b6aa9e088ea81290d",
         "5124dd1227dcf3135500059a76ed9a2bb37c80f8341fde379889aed01bd2270d",
         "40 - 49",
         "82000"
        ],
        [
         "2",
         "06febdf9-07fb-4a1b-87d7-a5f97d9a5faf",
         "2019-11-01 00:00:00",
         "M",
         "ce5b9ed5f6fddafa761843a9d1235c312fbafb8516b7fd5f0c058f663e08a0d4",
         "8d4277a3e9386a478273e969d4e24c2cbce451677fd49e91acce48c3b1e2d7d1",
         "40 - 49",
         "205000"
        ],
        [
         "3",
         "23df88e5-5dd3-46af-ac0d-0c6bd92e4b96",
         "2021-12-31 00:00:00",
         "F",
         "8f037308147ed902c152496c8c02f2569bf5cd75b75b6004595ba0599696c101",
         "1aa7059579295f5d0d837fa8f8c01f0206a9207e0daa7d1ce8bf855be618df15",
         "30 - 39",
         "116000"
        ],
        [
         "4",
         "6069c2d7-7905-4993-a155-64f6aba143b1",
         "2020-08-09 00:00:00",
         "F",
         "ecdd87961fc686b931267ace5a440882bf64c3c80c29731dffac6175dd1e6388",
         "f04c1c7e30210f09d47fca93074fed043943bf351b03371e6cfc579d94fe81ee",
         "50 - 59",
         "108000"
        ],
        [
         "5",
         "aee2c6aa-c9a4-488c-9e10-6a09dbe2f199",
         "2021-12-29 00:00:00",
         "M",
         "be21a27c9fd11e5c22b147dfbdc02ba0bb0cd3f95e2a2cf40493f8ce40163cb0",
         "bc6f761d10c8f40864faa6bb873cfaa5b2a6f57b50f5f048c7728c716208e769",
         "40 - 49",
         "41000"
        ],
        [
         "6",
         "4d52c646-8cc7-4935-9119-130be16518ba",
         "2019-09-13 00:00:00",
         "F",
         "85fb4f3060fe88a713ebf426a7de1f66b2635043bce64ba740c5a6b3030e8bcc",
         "f7d3d70f4992df909f3f96993cd71769169c8b51e0d73a222e0aff0db4eb83e5",
         "50 - 59",
         "177000"
        ],
        [
         "7",
         "2a8e2be0-7e41-4a56-9092-7a6258e4d5a1",
         "2021-10-06 00:00:00",
         "F",
         "245c72bc00800866190eadc95efa88bbad981600895f0e3fca38cd0ce4237a6b",
         "37efb0156ae58cb15d88c4bc7e5bfff25af621b020c3f0f18a5c952b4fc260a4",
         "50 - 59",
         "69000"
        ],
        [
         "8",
         "906fc563-00bb-4974-9e8a-d3d97608ad64",
         "2021-11-01 00:00:00",
         "F",
         "cde7565dc2f08369a2b1be970de0db9f205f09a5adbc90850bb4afb558194451",
         "ad20dd7437bc1af32e0d287577a1300dab8c4c186a6d1b906ff4b4e2870550c0",
         "60 - 69",
         "179000"
        ],
        [
         "9",
         "44f14da1-5b00-4b6a-bfe4-5be67a4b2521",
         "2020-04-01 00:00:00",
         "F",
         "a76ac053a080df327ec94f7631e23b3b051c875896a0b2ea09b12cc89f1f16f8",
         "2427a7aa89875dfd02874e1e22e987b13034f60d1a9343d91dfc05ad1fde20d8",
         "20 - 29",
         "99000"
        ],
        [
         "10",
         "0a657d74-2476-4381-a98a-bffa72149a43",
         "2021-08-21 00:00:00",
         "M",
         "03b4f839f3f411aff5f62c3fe427f543836c62bbbc561431833dc7c9494885db",
         "dfa1510bc174daddb16ab9b593c4cdd527125885eeacff928b98a81498f00ea2",
         "40 - 49",
         "68000"
        ],
        [
         "11",
         "d1aa82a1-617d-48cf-b2e9-c89174d537b8",
         "2021-08-22 00:00:00",
         "F",
         "73547d3c7288d33a7eb6a715082d7a9d99bbb054267d495737f712db25ef62ed",
         "ce0f844df266a20cc3305c6ed6307fe221f9c9c405b076ff9450a2bc3d2bc701",
         "30 - 39",
         "140000"
        ],
        [
         "12",
         "56c75862-4729-4cb6-8b58-a96ac2c811e0",
         "2019-07-18 00:00:00",
         "M",
         "0f63025cda40b9f6cb071f7444767798068f62c6c61da05e03661096fae466c4",
         "61e80473ff847b0b6382949c9b1b4d24beae094431f4a31542e29e29bacf4689",
         "60 - 69",
         "75000"
        ],
        [
         "13",
         "ed0f8007-ec29-481b-bca7-bbd7736624d0",
         "2020-07-01 00:00:00",
         "M",
         "e40bdcf77576e4468019826b09f180f7d775ad13964e78f9fde392ac2024893c",
         "65d3dcc7a9a5b50bc371a620d21183b6b700c928d38fef94d93df2d64d1c453d",
         "30 - 39",
         "92000"
        ],
        [
         "14",
         "27bc967a-42c5-4576-9356-f9713ee98765",
         "2022-05-09 00:00:00",
         "M",
         "2a00c17172f2bdd057013ea4e0ff10433016a89619b7abef48e18a5fd521f629",
         "009f300c918460c36693fb3269b19faab2c6d5fc59edee100c57f0a2449082ab",
         "60 - 69",
         "123000"
        ],
        [
         "15",
         "a13e6d8a-1b1a-4803-af7e-f646d486773e",
         "2022-06-21 00:00:00",
         "F",
         "ccdb53749d1c32a41c00c6e72c89e4d8732bbf4684a86b185e8a52e0d1933494",
         "287a253718e408f963900641251c45b8cd0750a22698f7959e98f1300c93cb96",
         "20 - 29",
         "110000"
        ],
        [
         "16",
         "40eba54a-a028-4397-8729-b53df9c2b114",
         "2019-08-24 00:00:00",
         "F",
         "1b93d6676862922fd2ea2a35b97ba62d8b2e28d315cb72394bbdde1e067e320a",
         "a631bbb2c8ab86647766ceab424a5278942fc7881f10ff4c6c540269ccef3add",
         "50 - 59",
         "55000"
        ],
        [
         "17",
         "0d206e0c-2641-4a08-be21-ed5e5d1c384a",
         "2021-08-18 00:00:00",
         "F",
         "128fc8ed89990565e06f785c23f8171e4f080004fe4695cc05475383d8c277dc",
         "4c016fbc9c6e6ae8138ade35ee95386deccae960ce884157aaf6f7bf26ce0b75",
         "40 - 49",
         "20000"
        ],
        [
         "18",
         "956039c6-6276-4034-9074-7b2d4a3d204d",
         "2020-04-25 00:00:00",
         "M",
         "2fa03111be44ce703d6a017c571691b7cc797fcbb3df328dc03efd6df74dd280",
         "4324fa21c43c3efd6e493c246807b22d1df007f0a4cdc997db685f70b0795552",
         "30 - 39",
         "230000"
        ],
        [
         "19",
         "6b6207fd-7226-49ae-a1c7-2bd1118383ee",
         "2019-10-14 00:00:00",
         "M",
         "3a74b08265693b4a9c512ff8812464c0f6e0799ed19ee8cf5e43c722c5a8fe15",
         "03d57a5ce4504a6c5d60f37bcce4d78bfb85bcec2fa32c7f77a399866ffc6c73",
         "40 - 49",
         "150000"
        ],
        [
         "20",
         "4f18395b-b0e4-440b-82dd-2c356a9fbf58",
         "2020-09-17 00:00:00",
         "M",
         "4efd1d58a626f0c05d3ae87f3264c8d10e3b88463e1c407ad949d09cbec7b6dc",
         "a0204120ab32e6f2f7892225426d1bb7de60687685c19fb24d5156ebfd2455f0",
         "50 - 59",
         "112000"
        ],
        [
         "21",
         "52980958-5053-4faa-9e9f-562734bf7cfc",
         "2020-02-23 00:00:00",
         "F",
         "7134ea041bcb31672ea6255dda8acbcc78aeab0d44867fc88d53837eab1f967f",
         "3683139e9eb399ad91f4604d5a8eab6c3269add6cffc7dea4dc04ea3e672eb28",
         "30 - 39",
         "24000"
        ],
        [
         "22",
         "eb129918-b2b7-4113-9887-199f402476a6",
         "2022-01-25 00:00:00",
         "M",
         "60e6a1c427a7186fef8c7cfb95113e8b6e1e73693b515f230156210259a3a36e",
         "a07a7f58773543606cf6f3b1ce821c8a39f677c7966d5fb58152d71423332d45",
         "20 - 29",
         "42000"
        ],
        [
         "23",
         "7fd45b4b-7498-455c-9a92-778dcfe26964",
         "2019-11-15 00:00:00",
         "M",
         "18483cfa5daec67915795870fd36cfc7b71b22f9f41508cb924dbf362a99466a",
         "ba824df2c0a6622daa1bbe294428dce1c55a21f12cc94d31b7445b8f44da56d1",
         "30 - 39",
         "120000"
        ],
        [
         "24",
         "24df512e-4d26-4ea5-9cd3-784c3b8e8b94",
         "2022-06-01 00:00:00",
         "F",
         "b4dec4dfb12a8ccbc2c8592252228a3a7964d94606995f02902a99305e158bd0",
         "877fec15b87710804c1985155c5e96e470706f5f28def3ee3d593fc0ea38cad2",
         "50 - 59",
         "102000"
        ],
        [
         "25",
         "b4361de5-a620-4e4a-be8e-e3a6bf7a2bc8",
         "2021-11-18 00:00:00",
         "M",
         "d5c4d417cd9f4fc8ee30f5ab1d5069e621904942f8369d0fa1c2c3a24c0ba60b",
         "3683139e9eb399ad91f4604d5a8eab6c3269add6cffc7dea4dc04ea3e672eb28",
         "10 - 19",
         "112000"
        ],
        [
         "26",
         "3d1570c0-1ed3-4a5c-9fa5-1f3cc42f47c5",
         "2021-02-16 00:00:00",
         "F",
         "66bc7190da652e1bd9e60915a106d57a07d51ad7482dcc302eec9ba711135818",
         "6f8d0eb9d900f0cf1fc9ab42224120fada8791e89a8e74ab054e3ece45458501",
         "40 - 49",
         "102000"
        ],
        [
         "27",
         "95e82636-6b77-4bcf-be39-41eabe0cf3a0",
         "2020-07-27 00:00:00",
         "M",
         "432a0543fa6e4058fe095ac43644085f0c937c26fe551b149e542e6c98f6f4a7",
         "56db875c026dc13a5f4e94dcc888ac5bdf4d4ec3be4e93864a3a90ac266974dc",
         "20 - 29",
         "68000"
        ],
        [
         "28",
         "b350d27b-06d9-4c93-88a6-e596d32d8538",
         "2020-08-07 00:00:00",
         "M",
         "4265bbc33532fa2402588269e8a48f26f21928063a8130bc2b67e8e78b77efa8",
         "db4ce8a2efc758132e71cecbdbd720030e616a3a3954fc13981d596139ff511c",
         "60 - 69",
         "42000"
        ],
        [
         "29",
         "e139b16e-1428-4cf6-b934-20f9c0a1417f",
         "2021-07-21 00:00:00",
         "M",
         "60f8d21675957d1159065cab62263050a6be7d0354684d755ca4ac0d74e12a29",
         "644d3bc0595266ff3067f5bed95125de9335deea39b2bbeda3c3ca0519271f64",
         "20 - 29",
         "175000"
        ],
        [
         "30",
         "b3a195bf-69d3-4c4f-903f-a0fe8dcf7bae",
         "2020-06-13 00:00:00",
         "F",
         "c1e9af4958dbd59b41a850dcb2cda07c0a33189e6d2ee193dc18684fedb4ec83",
         "1aebe529fd2a45a19fd98015ad3779c06483a5d31dc98031e44ee2b0bbc39670",
         "40 - 49",
         "167000"
        ],
        [
         "31",
         "f07f2a55-2f8e-47ce-9488-382d09a2f291",
         "2021-10-23 00:00:00",
         "M",
         "9b668d1392cc194b076a5b81e3c2fd2302d1b9d6ff45354df199145156275c2b",
         "0999835115791570c9b810555b453cb633979be977458aae05d87bf743cf384b",
         "20 - 29",
         "172000"
        ],
        [
         "32",
         "c01bcc21-2dbf-4621-893d-587d90801d04",
         "2021-06-01 00:00:00",
         "F",
         "4dd5ed12b7bb473d2dcceb2bf1fd0c7fb0c26ec5648a068dd3fb6fc2fab6763e",
         "6370186aa8540d8126a3f250148b0ac244f871ddef4355f897fb1f3bb3227932",
         "30 - 39",
         "46000"
        ],
        [
         "33",
         "886a9f0b-a36d-475d-877f-b63420422209",
         "2021-09-24 00:00:00",
         "M",
         "755858fc881f85e64e12c8dcc86216633a52fea0f2eeadaaf962fd26b5b38573",
         "b96079bcd97cbffcc39c34695a2ec3022511d6d6fbb0ecf959e82da911c3c4d3",
         "20 - 29",
         "125000"
        ],
        [
         "34",
         "9fdd5669-1dbd-416d-8f83-220c0c99d324",
         "2020-07-31 00:00:00",
         "M",
         "8fa0d31e436b4a78cad647fd927cfa8e7b76c7e6b717fbee2b821ec626581c91",
         "0b3d41dbe037a9c79e6bc0d04e3e6d1db9b30dd34ed77b83f0a595c4cde8ba60",
         "10 - 19",
         "42000"
        ],
        [
         "35",
         "2e647937-35eb-44b8-b80e-fa9460a3efa6",
         "2022-02-18 00:00:00",
         "F",
         "c69524e1685e7ad22e002aac99374f5af75bf5fa44d2e327db2e3763791eff1d",
         "7d5e2c7518305ed2b80bf0c7c7d1ba1bfac756462323dfad76a09bea125d3067",
         "60 - 69",
         "189000"
        ],
        [
         "36",
         "48b80363-4ee9-460a-8427-8dba02eb975d",
         "2020-09-18 00:00:00",
         "F",
         "51729fafbd47499f89c12bd1ef1f9eaae31d63bf220ced9d10001430a6d71852",
         "2c7261dd24daad170440598152ae7955a6d0cf78b8d92c5b6932aa243527a1fd",
         "20 - 29",
         "243000"
        ],
        [
         "37",
         "80d7979f-7467-4d3a-80ef-be00c0eb7676",
         "2021-05-07 00:00:00",
         "M",
         "5235903339277a1cdec3a09e534d7529bb84647404111906c49425e870209ac0",
         "5c60f87226e5784658da4448aa52c70a7493dd9f108b99b8fbcf47156a90dce0",
         "40 - 49",
         "32000"
        ],
        [
         "38",
         "d7e0faef-f1c9-4447-b2df-6de6d7cf4260",
         "2022-02-18 00:00:00",
         "F",
         "9baefa03087bf8bc107e0b3124aa7d4cebdc8c223f972e092d116fbef3f6f90e",
         "b5ffc98ba498dbd2bd27673230b0c81dd5404884832443ef50fd7fe366c12886",
         "40 - 49",
         "21000"
        ],
        [
         "39",
         "e7f31b0c-d95b-443a-9b05-d713e9ef8ebb",
         "2019-10-17 00:00:00",
         "M",
         "d28d0eb696e012df3cb676a41ead711ac480b47f0453f91118ef5f6c0da2d22b",
         "db6d004badd2b8bda383c29c84f45d8e950c1a67271296226f33673241db611c",
         "40 - 49",
         "25000"
        ],
        [
         "40",
         "70c91ca4-3d9e-4b77-885b-3e77015dd6a0",
         "2021-09-30 00:00:00",
         "M",
         "9aa9b683837b26e833d0a1a39fdfbb9076cec961d1791af0d97d5f08de72e500",
         "ab3450f18b8b0a981858da3b3e5d8d80b9a716f59d18f4d738492a9c7b50f3e1",
         "60 - 69",
         "106000"
        ],
        [
         "41",
         "25408b35-2c55-4bfb-8e16-af8aef8dab5c",
         "2020-09-30 00:00:00",
         "M",
         "c74c3f71ad3749d448ae038df4a76c06ff664fda92ef9ec8d6179377537d1401",
         "a051e2474a1cf5ecc45ac02c4dfdc70991ba317b75b74c3afe50e56209a87ab5",
         "60 - 69",
         "132000"
        ],
        [
         "42",
         "c8be4290-28e5-4373-a0ae-cdc2e413d39e",
         "2020-03-20 00:00:00",
         "F",
         "ac283d1a54322375819e1ee75731a3d0d49cbd0ef6f7fa5cf2f71d7d0bf99f2c",
         "2c68a3a3063d075510cbc6257aae4303f5ddabefb8c47824e8851c9b928825c4",
         "40 - 49",
         "199000"
        ],
        [
         "43",
         "78d6a419-59dc-42ce-82b4-6890f9495770",
         "2022-04-01 00:00:00",
         "M",
         "84bee333ca582b9203fdfe7b84792c9a50697ab84ab0ef7edc703339c360033c",
         "7c62eff60f113f434153f0519249d54846fcaa918843251f65754c24cd04b4c5",
         "20 - 29",
         "56000"
        ],
        [
         "44",
         "9a31c3cc-9e4f-4302-9353-7d8a930d6070",
         "2021-01-20 00:00:00",
         "F",
         "5db3fc70ad23f02a5e1622fc765d4ad464eb9a99a7efbb5612ace92fa4db15b8",
         "4ac7ac83c5fef5f4bbfee68428d2704458339244bfe3d4a337c7cb40f477eb62",
         "30 - 39",
         "84000"
        ],
        [
         "45",
         "e8aac636-0de0-4242-9d34-ec3ebba4eb3c",
         "2022-03-31 00:00:00",
         "M",
         "9e013ee88999e4050d7f3d636011e4ed0279f51efadd95cf19dedfd8c3e26656",
         "8a2730249a98d7f1e1f9768a6f6974ebafef3e1650baa8b720c90eeb27946ccf",
         "60 - 69",
         "65000"
        ],
        [
         "46",
         "d789cb77-4592-452b-86d6-eaf1711c9495",
         "2019-07-29 00:00:00",
         "M",
         "b5c9ed33292a9ac024531a842fa8c39914f1434cfa349bf14bcb22c7cf104870",
         "48413ed653b158d0d86330c7e762b35435d04f5c44522901d819fba30ec42a1d",
         "50 - 59",
         "157000"
        ],
        [
         "47",
         "61ef0b1c-1f41-4333-b772-92f7a79b2dc0",
         "2021-09-03 00:00:00",
         "M",
         "5e2fd6957dd7e4b2a5b0a4b32bb279d0e7098d8495e8999510897d467363fa59",
         "4a4c4be9afb273a358e9a9bab5d8e4d119dc7129962ddc4b16b05fd2897f538c",
         "50 - 59",
         "25000"
        ],
        [
         "48",
         "c22cb613-4b52-4b21-9f0f-be78bf7a2034",
         "2022-01-31 00:00:00",
         "M",
         "f5624e876e603feb01d0019286a4692a5b315f72d7297dfb7ecb197108152298",
         "2f353bbe3c1ea04e30f156e513d5f846d05212eee1fa19847ec2c69831f8587c",
         "40 - 49",
         "41000"
        ],
        [
         "49",
         "039d6115-45e5-494c-aef3-e06890707dda",
         "2020-04-11 00:00:00",
         "F",
         "13a9ef89b1039dd4e996f58b5561c8e2671c11d480c360780e1f1597405916a2",
         "d3cad86ec07d47056426e74f5edac6eae23f61a7640da189f7a93c41c2d93a34",
         "40 - 49",
         "29000"
        ]
       ],
       "shape": {
        "columns": 7,
        "rows": 10000
       }
      },
      "text/html": [
       "<div>\n",
       "<style scoped>\n",
       "    .dataframe tbody tr th:only-of-type {\n",
       "        vertical-align: middle;\n",
       "    }\n",
       "\n",
       "    .dataframe tbody tr th {\n",
       "        vertical-align: top;\n",
       "    }\n",
       "\n",
       "    .dataframe thead th {\n",
       "        text-align: right;\n",
       "    }\n",
       "</style>\n",
       "<table border=\"1\" class=\"dataframe\">\n",
       "  <thead>\n",
       "    <tr style=\"text-align: right;\">\n",
       "      <th></th>\n",
       "      <th>customer_id</th>\n",
       "      <th>date_registered</th>\n",
       "      <th>gender</th>\n",
       "      <th>employer</th>\n",
       "      <th>job</th>\n",
       "      <th>age</th>\n",
       "      <th>salary</th>\n",
       "    </tr>\n",
       "  </thead>\n",
       "  <tbody>\n",
       "    <tr>\n",
       "      <th>0</th>\n",
       "      <td>24c9d2d0-d0d3-4a90-9a3a-e00e4aac99bd</td>\n",
       "      <td>2021-09-29</td>\n",
       "      <td>M</td>\n",
       "      <td>a2e5631b9eb4ab110d98fff28178c4bd20e9c2dea0d822...</td>\n",
       "      <td>847953c7c1bef61e2ea6d7cb7d8061e3cfc7890239d2aa...</td>\n",
       "      <td>40 - 49</td>\n",
       "      <td>54000</td>\n",
       "    </tr>\n",
       "    <tr>\n",
       "      <th>1</th>\n",
       "      <td>7b2bc220-0296-4914-ba46-d6cc6a55a62a</td>\n",
       "      <td>2019-08-17</td>\n",
       "      <td>F</td>\n",
       "      <td>a8a4a9f4669c14da68479a0cb5505d4115c9d6cee096ef...</td>\n",
       "      <td>5124dd1227dcf3135500059a76ed9a2bb37c80f8341fde...</td>\n",
       "      <td>40 - 49</td>\n",
       "      <td>82000</td>\n",
       "    </tr>\n",
       "    <tr>\n",
       "      <th>2</th>\n",
       "      <td>06febdf9-07fb-4a1b-87d7-a5f97d9a5faf</td>\n",
       "      <td>2019-11-01</td>\n",
       "      <td>M</td>\n",
       "      <td>ce5b9ed5f6fddafa761843a9d1235c312fbafb8516b7fd...</td>\n",
       "      <td>8d4277a3e9386a478273e969d4e24c2cbce451677fd49e...</td>\n",
       "      <td>40 - 49</td>\n",
       "      <td>205000</td>\n",
       "    </tr>\n",
       "    <tr>\n",
       "      <th>3</th>\n",
       "      <td>23df88e5-5dd3-46af-ac0d-0c6bd92e4b96</td>\n",
       "      <td>2021-12-31</td>\n",
       "      <td>F</td>\n",
       "      <td>8f037308147ed902c152496c8c02f2569bf5cd75b75b60...</td>\n",
       "      <td>1aa7059579295f5d0d837fa8f8c01f0206a9207e0daa7d...</td>\n",
       "      <td>30 - 39</td>\n",
       "      <td>116000</td>\n",
       "    </tr>\n",
       "    <tr>\n",
       "      <th>4</th>\n",
       "      <td>6069c2d7-7905-4993-a155-64f6aba143b1</td>\n",
       "      <td>2020-08-09</td>\n",
       "      <td>F</td>\n",
       "      <td>ecdd87961fc686b931267ace5a440882bf64c3c80c2973...</td>\n",
       "      <td>f04c1c7e30210f09d47fca93074fed043943bf351b0337...</td>\n",
       "      <td>50 - 59</td>\n",
       "      <td>108000</td>\n",
       "    </tr>\n",
       "    <tr>\n",
       "      <th>...</th>\n",
       "      <td>...</td>\n",
       "      <td>...</td>\n",
       "      <td>...</td>\n",
       "      <td>...</td>\n",
       "      <td>...</td>\n",
       "      <td>...</td>\n",
       "      <td>...</td>\n",
       "    </tr>\n",
       "    <tr>\n",
       "      <th>9995</th>\n",
       "      <td>d6424be2-4351-4535-8bca-34775cdcc411</td>\n",
       "      <td>2021-09-12</td>\n",
       "      <td>F</td>\n",
       "      <td>6278b322cfb9a42b082554be7aa86c98c726d76a92f9a0...</td>\n",
       "      <td>892166d95492472cb1b103ddfe2f6fb8ba2975fe943901...</td>\n",
       "      <td>50 - 59</td>\n",
       "      <td>241000</td>\n",
       "    </tr>\n",
       "    <tr>\n",
       "      <th>9996</th>\n",
       "      <td>d9ac8491-5e97-46ba-a7f3-d12491e9487c</td>\n",
       "      <td>2020-08-15</td>\n",
       "      <td>F</td>\n",
       "      <td>6d9783f1d33672854f3c0a1eb3ef8e1b05f10f907ff1b7...</td>\n",
       "      <td>34437c3150c914c0a6b25c085599eab69d27f71f91ecb4...</td>\n",
       "      <td>30 - 39</td>\n",
       "      <td>26000</td>\n",
       "    </tr>\n",
       "    <tr>\n",
       "      <th>9997</th>\n",
       "      <td>1d5e94c5-bfc9-439d-84f6-6bf6c613cb16</td>\n",
       "      <td>2019-10-24</td>\n",
       "      <td>F</td>\n",
       "      <td>d23477b7868ee40fbfbd339a9a4dd2878b691d227ae86d...</td>\n",
       "      <td>29f178456b5671da2a773a24bd59e0ea80bd11968950f8...</td>\n",
       "      <td>20 - 29</td>\n",
       "      <td>245000</td>\n",
       "    </tr>\n",
       "    <tr>\n",
       "      <th>9998</th>\n",
       "      <td>15549c9b-caa9-413f-9dd5-84b43648ca23</td>\n",
       "      <td>2020-08-14</td>\n",
       "      <td>M</td>\n",
       "      <td>ac0a1342c56b85609e095e82e5876986b280a0b61b0dba...</td>\n",
       "      <td>568fcbb621f83801e5bd734dd893247db66c715a22661b...</td>\n",
       "      <td>40 - 49</td>\n",
       "      <td>233000</td>\n",
       "    </tr>\n",
       "    <tr>\n",
       "      <th>9999</th>\n",
       "      <td>2993d9a9-c67f-4383-ae28-c55537b76f06</td>\n",
       "      <td>2020-04-04</td>\n",
       "      <td>M</td>\n",
       "      <td>6a877a37d970b7ca13aa184e31dacc9a8f8cafa05bce5f...</td>\n",
       "      <td>110be669900e04777bbe9906345df3e20d157d0c45daf4...</td>\n",
       "      <td>40 - 49</td>\n",
       "      <td>169000</td>\n",
       "    </tr>\n",
       "  </tbody>\n",
       "</table>\n",
       "<p>10000 rows × 7 columns</p>\n",
       "</div>"
      ],
      "text/plain": [
       "                               customer_id date_registered gender  \\\n",
       "0     24c9d2d0-d0d3-4a90-9a3a-e00e4aac99bd      2021-09-29      M   \n",
       "1     7b2bc220-0296-4914-ba46-d6cc6a55a62a      2019-08-17      F   \n",
       "2     06febdf9-07fb-4a1b-87d7-a5f97d9a5faf      2019-11-01      M   \n",
       "3     23df88e5-5dd3-46af-ac0d-0c6bd92e4b96      2021-12-31      F   \n",
       "4     6069c2d7-7905-4993-a155-64f6aba143b1      2020-08-09      F   \n",
       "...                                    ...             ...    ...   \n",
       "9995  d6424be2-4351-4535-8bca-34775cdcc411      2021-09-12      F   \n",
       "9996  d9ac8491-5e97-46ba-a7f3-d12491e9487c      2020-08-15      F   \n",
       "9997  1d5e94c5-bfc9-439d-84f6-6bf6c613cb16      2019-10-24      F   \n",
       "9998  15549c9b-caa9-413f-9dd5-84b43648ca23      2020-08-14      M   \n",
       "9999  2993d9a9-c67f-4383-ae28-c55537b76f06      2020-04-04      M   \n",
       "\n",
       "                                               employer  \\\n",
       "0     a2e5631b9eb4ab110d98fff28178c4bd20e9c2dea0d822...   \n",
       "1     a8a4a9f4669c14da68479a0cb5505d4115c9d6cee096ef...   \n",
       "2     ce5b9ed5f6fddafa761843a9d1235c312fbafb8516b7fd...   \n",
       "3     8f037308147ed902c152496c8c02f2569bf5cd75b75b60...   \n",
       "4     ecdd87961fc686b931267ace5a440882bf64c3c80c2973...   \n",
       "...                                                 ...   \n",
       "9995  6278b322cfb9a42b082554be7aa86c98c726d76a92f9a0...   \n",
       "9996  6d9783f1d33672854f3c0a1eb3ef8e1b05f10f907ff1b7...   \n",
       "9997  d23477b7868ee40fbfbd339a9a4dd2878b691d227ae86d...   \n",
       "9998  ac0a1342c56b85609e095e82e5876986b280a0b61b0dba...   \n",
       "9999  6a877a37d970b7ca13aa184e31dacc9a8f8cafa05bce5f...   \n",
       "\n",
       "                                                    job      age  salary  \n",
       "0     847953c7c1bef61e2ea6d7cb7d8061e3cfc7890239d2aa...  40 - 49   54000  \n",
       "1     5124dd1227dcf3135500059a76ed9a2bb37c80f8341fde...  40 - 49   82000  \n",
       "2     8d4277a3e9386a478273e969d4e24c2cbce451677fd49e...  40 - 49  205000  \n",
       "3     1aa7059579295f5d0d837fa8f8c01f0206a9207e0daa7d...  30 - 39  116000  \n",
       "4     f04c1c7e30210f09d47fca93074fed043943bf351b0337...  50 - 59  108000  \n",
       "...                                                 ...      ...     ...  \n",
       "9995  892166d95492472cb1b103ddfe2f6fb8ba2975fe943901...  50 - 59  241000  \n",
       "9996  34437c3150c914c0a6b25c085599eab69d27f71f91ecb4...  30 - 39   26000  \n",
       "9997  29f178456b5671da2a773a24bd59e0ea80bd11968950f8...  20 - 29  245000  \n",
       "9998  568fcbb621f83801e5bd734dd893247db66c715a22661b...  40 - 49  233000  \n",
       "9999  110be669900e04777bbe9906345df3e20d157d0c45daf4...  40 - 49  169000  \n",
       "\n",
       "[10000 rows x 7 columns]"
      ]
     },
     "execution_count": 25,
     "metadata": {},
     "output_type": "execute_result"
    }
   ],
   "source": [
    "# columns that don’t provide helpful information for analysis\n",
    "df = df.drop(columns=[\"Unnamed: 0\", \"username\", \"name\", \"email\", \"birthdate\", \"residence\", \"address\",\n",
    "                      \"credit_card_provider\", \"credit_card_number\", \"credit_card_security_code\", \"credit_card_expire\", \n",
    "                      \"current_location\"])\n",
    "\n",
    "# anonymisation\n",
    "df[\"employer\"] = df[\"employer\"].apply(\n",
    "    lambda x: hashlib.sha256(str(x).encode()).hexdigest()\n",
    ")\n",
    "\n",
    "df[\"job\"] = df[\"job\"].apply(\n",
    "    lambda x: hashlib.sha256(str(x).encode()).hexdigest()\n",
    ")\n",
    "\n",
    "# grouping the values\n",
    "def age_groups(input: int) -> str:\n",
    "    # 18 <= age <= 65\n",
    "    tens_digit = str(input)[:1]\n",
    "    return f\"{tens_digit}0 - {tens_digit}9\"\n",
    "df[\"age\"] = df[\"age\"].apply(age_groups)\n",
    "\n",
    "df[\"salary\"] = df[\"salary\"].apply(\n",
    "    lambda x: round(int(x), ndigits=-3)\n",
    ")\n",
    "\n",
    "df"
   ]
  },
  {
   "cell_type": "code",
   "execution_count": 26,
   "id": "4b8cec0f",
   "metadata": {},
   "outputs": [],
   "source": [
    "df.to_csv(\"anonymised_mobile_customers.csv\", index=False)"
   ]
  }
 ],
 "metadata": {
  "kernelspec": {
   "display_name": "Python 3",
   "language": "python",
   "name": "python3"
  },
  "language_info": {
   "codemirror_mode": {
    "name": "ipython",
    "version": 3
   },
   "file_extension": ".py",
   "mimetype": "text/x-python",
   "name": "python",
   "nbconvert_exporter": "python",
   "pygments_lexer": "ipython3",
   "version": "3.13.5"
  }
 },
 "nbformat": 4,
 "nbformat_minor": 5
}
