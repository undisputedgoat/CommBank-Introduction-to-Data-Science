{
 "cells": [
  {
   "cell_type": "markdown",
   "id": "9ef5387a",
   "metadata": {},
   "source": [
    "<h1> Task 3: Propose Data Analysis Approaches"
   ]
  },
  {
   "cell_type": "code",
   "execution_count": 1,
   "id": "683b0813",
   "metadata": {},
   "outputs": [],
   "source": [
    "import requests\n",
    "import pandas as pd\n",
    "import re\n",
    "from collections import Counter\n",
    "from dotenv import load_dotenv\n",
    "import os"
   ]
  },
  {
   "cell_type": "code",
   "execution_count": 2,
   "id": "ce35eec8",
   "metadata": {},
   "outputs": [],
   "source": [
    "load_dotenv() \n",
    "api_key = os.getenv(\"API_KEY\")\n",
    "api_key_secret = os.getenv(\"API_KEY_SECRET\")\n",
    "bearer_token = os.getenv(\"BEARER_TOKEN\")"
   ]
  },
  {
   "cell_type": "code",
   "execution_count": 3,
   "id": "f28e9572",
   "metadata": {},
   "outputs": [],
   "source": [
    "handle = \"Commbank\"\n",
    "url = f\"https://api.twitter.com/2/tweets/search/recent?query=from:{handle}&tweet.fields=created_at&expansions=author_id&user.fields=created_at\"\n",
    "headers = {\"Authorization\": \"Bearer {}\".format(bearer_token)}"
   ]
  },
  {
   "cell_type": "code",
   "execution_count": null,
   "id": "e9e8f527",
   "metadata": {},
   "outputs": [
    {
     "data": {
      "text/plain": [
       "{'data': [{'edit_history_tweet_ids': ['1967418416220000484'],\n",
       "   'text': \"@DevD77777 Hi Dev, I'm keen to hear more about this to see how best I can assist you, send me a private message with more info and we'll chat more there.^Gigi\",\n",
       "   'author_id': '14787749',\n",
       "   'id': '1967418416220000484',\n",
       "   'created_at': '2025-09-15T02:41:17.000Z'},\n",
       "  {'edit_history_tweet_ids': ['1967343911023903019'],\n",
       "   'text': '@OnSpeculator Delete it from your phone/device^Gigi',\n",
       "   'author_id': '14787749',\n",
       "   'id': '1967343911023903019',\n",
       "   'created_at': '2025-09-14T21:45:14.000Z'},\n",
       "  {'edit_history_tweet_ids': ['1967336079012639059'],\n",
       "   'text': \"@BelbinDenton Hi Denton, I'd need more info to see how best I can assist you. Send me a private message and we'll chat more there.^Gigi\",\n",
       "   'author_id': '14787749',\n",
       "   'id': '1967336079012639059',\n",
       "   'created_at': '2025-09-14T21:14:07.000Z'},\n",
       "  {'edit_history_tweet_ids': ['1967335720668000464'],\n",
       "   'text': '@OnSpeculator Hi there, I can understand why you would be frustrated. If you would like to disable this feature you will need to deregister the app. If you would like for us to capture your sentiments about the experience, please send me a dm^Gigi',\n",
       "   'author_id': '14787749',\n",
       "   'id': '1967335720668000464',\n",
       "   'created_at': '2025-09-14T21:12:41.000Z'},\n",
       "  {'edit_history_tweet_ids': ['1966985216901484727'],\n",
       "   'text': '@OZzSue5 @eBay Hi there, our disputes team through the app will be best placed to confirm this one. Happy to connect you through to them if you send me a private message.^Gigi',\n",
       "   'author_id': '14787749',\n",
       "   'id': '1966985216901484727',\n",
       "   'created_at': '2025-09-13T21:59:55.000Z'},\n",
       "  {'edit_history_tweet_ids': ['1966650534087324113'],\n",
       "   'text': '@muso1947 Hi there, to understand how to help you best, I need a little bit more information. Could you please send me a private message.^Gigi',\n",
       "   'author_id': '14787749',\n",
       "   'id': '1966650534087324113',\n",
       "   'created_at': '2025-09-12T23:50:00.000Z'},\n",
       "  {'edit_history_tweet_ids': ['1966649918816481707'],\n",
       "   'text': \"@ObieWanDaKid Hi Obie, I can see your frustration and concern and that you're dissatisfied with your experience with this. You can capture your comment formally as a complaint via the 'Complaints' page on our website.^Gigi\",\n",
       "   'author_id': '14787749',\n",
       "   'id': '1966649918816481707',\n",
       "   'created_at': '2025-09-12T23:47:33.000Z'},\n",
       "  {'edit_history_tweet_ids': ['1966648698383069550'],\n",
       "   'text': '@kissfc01 Hi Pete, I have replied to your private message.^Gigi',\n",
       "   'author_id': '14787749',\n",
       "   'id': '1966648698383069550',\n",
       "   'created_at': '2025-09-12T23:42:42.000Z'},\n",
       "  {'edit_history_tweet_ids': ['1966394603743097081'],\n",
       "   'text': '@takamor87942714 Hi there, thanks for bringing this to our attention. Lachlan Jones has not been an employee of CBA for some time. ^Nat',\n",
       "   'author_id': '14787749',\n",
       "   'id': '1966394603743097081',\n",
       "   'created_at': '2025-09-12T06:53:02.000Z'},\n",
       "  {'edit_history_tweet_ids': ['1966335255755071818'],\n",
       "   'text': '@Partytime63 Hi there, there are no widespread issues being reported at the moment. Can I ask have you tried deleting the app and reinstalling? This is to reset functionality and ensure you have the most recent version installed on your phone. ^Nat',\n",
       "   'author_id': '14787749',\n",
       "   'id': '1966335255755071818',\n",
       "   'created_at': '2025-09-12T02:57:12.000Z'}],\n",
       " 'includes': {'users': [{'name': 'CommBank',\n",
       "    'id': '14787749',\n",
       "    'username': 'CommBank',\n",
       "    'created_at': '2008-05-15T15:53:53.000Z'}]},\n",
       " 'meta': {'newest_id': '1967418416220000484',\n",
       "  'oldest_id': '1966335255755071818',\n",
       "  'result_count': 10,\n",
       "  'next_token': 'b26v89c19zqg8o3fsce7q8jd28ls4ea8ahw42olnonzp9'}}"
      ]
     },
     "execution_count": 4,
     "metadata": {},
     "output_type": "execute_result"
    }
   ],
   "source": [
    "try:\n",
    "    response = requests.get(url=url, headers=headers)\n",
    "    response.json()\n",
    "except Exception as e:\n",
    "    print(f\"Error: {e}\")"
   ]
  },
  {
   "cell_type": "code",
   "execution_count": null,
   "id": "65662a5b",
   "metadata": {},
   "outputs": [
    {
     "data": {
      "text/plain": [
       "{'title': 'Too Many Requests',\n",
       " 'detail': 'Too Many Requests',\n",
       " 'type': 'about:blank',\n",
       " 'status': 429}"
      ]
     },
     "execution_count": 5,
     "metadata": {},
     "output_type": "execute_result"
    }
   ],
   "source": [
    "url = \"https://api.twitter.com/2/tweets/search/recent\"\n",
    "headers = {\"Authorization\": f\"Bearer {bearer_token}\"}\n",
    "params = {\"query\": \"data science\", \"max_results\": 3}\n",
    "\n",
    "try:\n",
    "    response = requests.get(url, headers=headers, params=params)\n",
    "    response.json()\n",
    "except Exception as e:\n",
    "    print(f\"Error: {e}\")"
   ]
  }
 ],
 "metadata": {
  "kernelspec": {
   "display_name": "Python 3",
   "language": "python",
   "name": "python3"
  },
  "language_info": {
   "codemirror_mode": {
    "name": "ipython",
    "version": 3
   },
   "file_extension": ".py",
   "mimetype": "text/x-python",
   "name": "python",
   "nbconvert_exporter": "python",
   "pygments_lexer": "ipython3",
   "version": "3.13.5"
  }
 },
 "nbformat": 4,
 "nbformat_minor": 5
}
